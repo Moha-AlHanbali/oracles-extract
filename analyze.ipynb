{
 "cells": [
  {
   "cell_type": "markdown",
   "metadata": {},
   "source": [
    "# Oracle's Extract"
   ]
  },
  {
   "cell_type": "markdown",
   "metadata": {},
   "source": [
    "### Import Libraries and Dependencies"
   ]
  },
  {
   "cell_type": "code",
   "execution_count": 623,
   "metadata": {},
   "outputs": [],
   "source": [
    "import pandas as pd\n",
    "import json\n",
    "import difflib"
   ]
  },
  {
   "cell_type": "markdown",
   "metadata": {},
   "source": [
    "### Configure Pandas Options"
   ]
  },
  {
   "cell_type": "code",
   "execution_count": 624,
   "metadata": {},
   "outputs": [],
   "source": [
    "pd.set_option('display.max_columns', None)"
   ]
  },
  {
   "cell_type": "markdown",
   "metadata": {},
   "source": [
    "### Convert JSON to CSV"
   ]
  },
  {
   "cell_type": "code",
   "execution_count": 625,
   "metadata": {},
   "outputs": [],
   "source": [
    "with open('match_data.json') as json_file:\n",
    "    data = json.load(json_file)\n",
    "\n",
    "pd.json_normalize(data).to_csv('match_data.csv')\n"
   ]
  },
  {
   "cell_type": "markdown",
   "metadata": {},
   "source": [
    "### Read Data"
   ]
  },
  {
   "cell_type": "code",
   "execution_count": 626,
   "metadata": {},
   "outputs": [
    {
     "data": {
      "text/html": [
       "<div>\n",
       "<style scoped>\n",
       "    .dataframe tbody tr th:only-of-type {\n",
       "        vertical-align: middle;\n",
       "    }\n",
       "\n",
       "    .dataframe tbody tr th {\n",
       "        vertical-align: top;\n",
       "    }\n",
       "\n",
       "    .dataframe thead th {\n",
       "        text-align: right;\n",
       "    }\n",
       "</style>\n",
       "<table border=\"1\" class=\"dataframe\">\n",
       "  <thead>\n",
       "    <tr style=\"text-align: right;\">\n",
       "      <th></th>\n",
       "      <th>Unnamed: 0</th>\n",
       "    </tr>\n",
       "  </thead>\n",
       "  <tbody>\n",
       "    <tr>\n",
       "      <th>count</th>\n",
       "      <td>1771.000000</td>\n",
       "    </tr>\n",
       "    <tr>\n",
       "      <th>mean</th>\n",
       "      <td>885.000000</td>\n",
       "    </tr>\n",
       "    <tr>\n",
       "      <th>std</th>\n",
       "      <td>511.387981</td>\n",
       "    </tr>\n",
       "    <tr>\n",
       "      <th>min</th>\n",
       "      <td>0.000000</td>\n",
       "    </tr>\n",
       "    <tr>\n",
       "      <th>25%</th>\n",
       "      <td>442.500000</td>\n",
       "    </tr>\n",
       "    <tr>\n",
       "      <th>50%</th>\n",
       "      <td>885.000000</td>\n",
       "    </tr>\n",
       "    <tr>\n",
       "      <th>75%</th>\n",
       "      <td>1327.500000</td>\n",
       "    </tr>\n",
       "    <tr>\n",
       "      <th>max</th>\n",
       "      <td>1770.000000</td>\n",
       "    </tr>\n",
       "  </tbody>\n",
       "</table>\n",
       "</div>"
      ],
      "text/plain": [
       "        Unnamed: 0\n",
       "count  1771.000000\n",
       "mean    885.000000\n",
       "std     511.387981\n",
       "min       0.000000\n",
       "25%     442.500000\n",
       "50%     885.000000\n",
       "75%    1327.500000\n",
       "max    1770.000000"
      ]
     },
     "execution_count": 626,
     "metadata": {},
     "output_type": "execute_result"
    }
   ],
   "source": [
    "df = pd.read_csv('match_data.csv')\n",
    "df.describe()"
   ]
  },
  {
   "cell_type": "markdown",
   "metadata": {},
   "source": [
    "### Data Columns\n"
   ]
  },
  {
   "cell_type": "code",
   "execution_count": 627,
   "metadata": {},
   "outputs": [
    {
     "name": "stdout",
     "output_type": "stream",
     "text": [
      "<class 'pandas.core.frame.DataFrame'>\n",
      "RangeIndex: 1771 entries, 0 to 1770\n",
      "Data columns (total 23 columns):\n",
      " #   Column                              Non-Null Count  Dtype \n",
      "---  ------                              --------------  ----- \n",
      " 0   Unnamed: 0                          1771 non-null   int64 \n",
      " 1   team1.win                           1771 non-null   bool  \n",
      " 2   team1.composition.champion1         1771 non-null   object\n",
      " 3   team1.composition.champion1_items   1771 non-null   object\n",
      " 4   team1.composition.champion2         1771 non-null   object\n",
      " 5   team1.composition.champion2_items   1771 non-null   object\n",
      " 6   team1.composition.champion3         1771 non-null   object\n",
      " 7   team1.composition.champion3_items   1771 non-null   object\n",
      " 8   team1.composition.champion4         1771 non-null   object\n",
      " 9   team1.composition.champion4_items   1771 non-null   object\n",
      " 10  team1.composition.champion5         1771 non-null   object\n",
      " 11  team1.composition.champion5_items   1771 non-null   object\n",
      " 12  team2.win                           1771 non-null   bool  \n",
      " 13  team2.composition.champion6         1771 non-null   object\n",
      " 14  team2.composition.champion6_items   1771 non-null   object\n",
      " 15  team2.composition.champion7         1771 non-null   object\n",
      " 16  team2.composition.champion7_items   1771 non-null   object\n",
      " 17  team2.composition.champion8         1771 non-null   object\n",
      " 18  team2.composition.champion8_items   1771 non-null   object\n",
      " 19  team2.composition.champion9         1771 non-null   object\n",
      " 20  team2.composition.champion9_items   1771 non-null   object\n",
      " 21  team2.composition.champion10        1771 non-null   object\n",
      " 22  team2.composition.champion10_items  1771 non-null   object\n",
      "dtypes: bool(2), int64(1), object(20)\n",
      "memory usage: 294.1+ KB\n"
     ]
    }
   ],
   "source": [
    "df.info()"
   ]
  },
  {
   "cell_type": "markdown",
   "metadata": {},
   "source": [
    "### Data Sample"
   ]
  },
  {
   "cell_type": "code",
   "execution_count": 628,
   "metadata": {},
   "outputs": [
    {
     "data": {
      "text/html": [
       "<div>\n",
       "<style scoped>\n",
       "    .dataframe tbody tr th:only-of-type {\n",
       "        vertical-align: middle;\n",
       "    }\n",
       "\n",
       "    .dataframe tbody tr th {\n",
       "        vertical-align: top;\n",
       "    }\n",
       "\n",
       "    .dataframe thead th {\n",
       "        text-align: right;\n",
       "    }\n",
       "</style>\n",
       "<table border=\"1\" class=\"dataframe\">\n",
       "  <thead>\n",
       "    <tr style=\"text-align: right;\">\n",
       "      <th></th>\n",
       "      <th>Unnamed: 0</th>\n",
       "      <th>team1.win</th>\n",
       "      <th>team1.composition.champion1</th>\n",
       "      <th>team1.composition.champion1_items</th>\n",
       "      <th>team1.composition.champion2</th>\n",
       "      <th>team1.composition.champion2_items</th>\n",
       "      <th>team1.composition.champion3</th>\n",
       "      <th>team1.composition.champion3_items</th>\n",
       "      <th>team1.composition.champion4</th>\n",
       "      <th>team1.composition.champion4_items</th>\n",
       "      <th>team1.composition.champion5</th>\n",
       "      <th>team1.composition.champion5_items</th>\n",
       "      <th>team2.win</th>\n",
       "      <th>team2.composition.champion6</th>\n",
       "      <th>team2.composition.champion6_items</th>\n",
       "      <th>team2.composition.champion7</th>\n",
       "      <th>team2.composition.champion7_items</th>\n",
       "      <th>team2.composition.champion8</th>\n",
       "      <th>team2.composition.champion8_items</th>\n",
       "      <th>team2.composition.champion9</th>\n",
       "      <th>team2.composition.champion9_items</th>\n",
       "      <th>team2.composition.champion10</th>\n",
       "      <th>team2.composition.champion10_items</th>\n",
       "    </tr>\n",
       "  </thead>\n",
       "  <tbody>\n",
       "    <tr>\n",
       "      <th>0</th>\n",
       "      <td>0</td>\n",
       "      <td>False</td>\n",
       "      <td>Blitzcrank</td>\n",
       "      <td>[3190, 2055, 3860, 3076, 3047, 0, 3364]</td>\n",
       "      <td>Kaisa</td>\n",
       "      <td>[3006, 2031, 6671, 6676, 3123, 3086, 3363]</td>\n",
       "      <td>Ryze</td>\n",
       "      <td>[3040, 2420, 6656, 3020, 1029, 2055, 3363]</td>\n",
       "      <td>Sejuani</td>\n",
       "      <td>[6662, 2031, 2055, 3047, 1029, 8001, 3364]</td>\n",
       "      <td>Gangplank</td>\n",
       "      <td>[2033, 3078, 3047, 3123, 6695, 1028, 3340]</td>\n",
       "      <td>True</td>\n",
       "      <td>Sona</td>\n",
       "      <td>[3158, 6617, 1052, 3853, 2055, 1004, 3364]</td>\n",
       "      <td>Draven</td>\n",
       "      <td>[0, 0, 0, 0, 0, 0, 3363]</td>\n",
       "      <td>Kayle</td>\n",
       "      <td>[3115, 3111, 0, 1055, 1028, 0, 3340]</td>\n",
       "      <td>RekSai</td>\n",
       "      <td>[3111, 2031, 3814, 1028, 0, 6693, 3364]</td>\n",
       "      <td>Yone</td>\n",
       "      <td>[2031, 3006, 3086, 1054, 6673, 1018, 3340]</td>\n",
       "    </tr>\n",
       "    <tr>\n",
       "      <th>1</th>\n",
       "      <td>1</td>\n",
       "      <td>True</td>\n",
       "      <td>Seraphine</td>\n",
       "      <td>[3158, 6617, 3853, 3114, 1052, 2055, 3364]</td>\n",
       "      <td>Jhin</td>\n",
       "      <td>[6676, 3086, 2015, 3009, 6671, 0, 3363]</td>\n",
       "      <td>Cassiopeia</td>\n",
       "      <td>[3157, 6653, 4630, 0, 1082, 3070, 3340]</td>\n",
       "      <td>LeeSin</td>\n",
       "      <td>[2031, 6630, 2055, 3047, 3071, 3133, 3340]</td>\n",
       "      <td>Nasus</td>\n",
       "      <td>[1054, 3193, 3047, 6632, 1029, 1029, 3340]</td>\n",
       "      <td>False</td>\n",
       "      <td>Rakan</td>\n",
       "      <td>[3860, 2055, 2065, 3158, 3916, 4642, 3364]</td>\n",
       "      <td>Caitlyn</td>\n",
       "      <td>[1055, 6691, 6676, 3006, 3086, 1042, 3363]</td>\n",
       "      <td>Zed</td>\n",
       "      <td>[6692, 6694, 6695, 3158, 3814, 1036, 3364]</td>\n",
       "      <td>Sejuani</td>\n",
       "      <td>[3047, 3001, 3082, 0, 6662, 0, 3364]</td>\n",
       "      <td>Darius</td>\n",
       "      <td>[3078, 2033, 3071, 3047, 3123, 0, 3363]</td>\n",
       "    </tr>\n",
       "    <tr>\n",
       "      <th>2</th>\n",
       "      <td>2</td>\n",
       "      <td>False</td>\n",
       "      <td>Lulu</td>\n",
       "      <td>[2055, 3158, 3860, 3011, 3114, 2065, 3364]</td>\n",
       "      <td>Tristana</td>\n",
       "      <td>[3046, 3026, 1018, 3006, 6672, 3091, 3363]</td>\n",
       "      <td>TwistedFate</td>\n",
       "      <td>[3157, 3094, 6656, 3041, 3158, 0, 3363]</td>\n",
       "      <td>Sejuani</td>\n",
       "      <td>[3109, 3067, 2055, 3047, 3001, 6662, 3364]</td>\n",
       "      <td>Darius</td>\n",
       "      <td>[3193, 3082, 1057, 3047, 3053, 3078, 3363]</td>\n",
       "      <td>True</td>\n",
       "      <td>Swain</td>\n",
       "      <td>[3853, 3157, 4637, 6653, 3020, 0, 3364]</td>\n",
       "      <td>Syndra</td>\n",
       "      <td>[3020, 1058, 3135, 0, 6655, 4628, 3363]</td>\n",
       "      <td>Akshan</td>\n",
       "      <td>[6672, 3091, 1037, 3111, 1053, 1043, 3363]</td>\n",
       "      <td>LeeSin</td>\n",
       "      <td>[3026, 2422, 3814, 6694, 6692, 0, 3340]</td>\n",
       "      <td>DrMundo</td>\n",
       "      <td>[3143, 3076, 3047, 3065, 3068, 1028, 3364]</td>\n",
       "    </tr>\n",
       "    <tr>\n",
       "      <th>3</th>\n",
       "      <td>3</td>\n",
       "      <td>False</td>\n",
       "      <td>Morgana</td>\n",
       "      <td>[3158, 2065, 3157, 3853, 2055, 3011, 3364]</td>\n",
       "      <td>Caitlyn</td>\n",
       "      <td>[3035, 6671, 1018, 3006, 3031, 3095, 3363]</td>\n",
       "      <td>Sylas</td>\n",
       "      <td>[3158, 3157, 6656, 4629, 1056, 1058, 3364]</td>\n",
       "      <td>Evelynn</td>\n",
       "      <td>[3152, 1058, 3041, 3089, 3135, 3020, 3363]</td>\n",
       "      <td>Rengar</td>\n",
       "      <td>[3047, 3071, 6630, 1054, 3077, 1011, 3364]</td>\n",
       "      <td>True</td>\n",
       "      <td>Nautilus</td>\n",
       "      <td>[3860, 2031, 3190, 3047, 3076, 0, 3364]</td>\n",
       "      <td>Tristana</td>\n",
       "      <td>[1038, 6672, 2055, 1037, 3006, 3046, 3363]</td>\n",
       "      <td>Jayce</td>\n",
       "      <td>[3042, 3158, 1036, 6692, 6609, 3134, 3363]</td>\n",
       "      <td>Viego</td>\n",
       "      <td>[3111, 3091, 6632, 3211, 3067, 0, 3364]</td>\n",
       "      <td>Kennen</td>\n",
       "      <td>[3089, 0, 3152, 3020, 3135, 3191, 3363]</td>\n",
       "    </tr>\n",
       "    <tr>\n",
       "      <th>4</th>\n",
       "      <td>4</td>\n",
       "      <td>False</td>\n",
       "      <td>Rell</td>\n",
       "      <td>[8001, 3860, 0, 3047, 3105, 3067, 3364]</td>\n",
       "      <td>Aphelios</td>\n",
       "      <td>[3031, 6673, 3006, 6676, 1036, 2055, 3363]</td>\n",
       "      <td>Sylas</td>\n",
       "      <td>[6656, 2033, 3157, 1058, 3158, 3082, 3363]</td>\n",
       "      <td>XinZhao</td>\n",
       "      <td>[6630, 3143, 3044, 3047, 0, 6333, 3364]</td>\n",
       "      <td>Graves</td>\n",
       "      <td>[3508, 6673, 3031, 3111, 1055, 1018, 3363]</td>\n",
       "      <td>True</td>\n",
       "      <td>Trundle</td>\n",
       "      <td>[8001, 3857, 2403, 1033, 3047, 3067, 3364]</td>\n",
       "      <td>Jhin</td>\n",
       "      <td>[6671, 3031, 1018, 3009, 6676, 1055, 3363]</td>\n",
       "      <td>Lucian</td>\n",
       "      <td>[6671, 6694, 2055, 3133, 3006, 3123, 3363]</td>\n",
       "      <td>Evelynn</td>\n",
       "      <td>[3152, 3089, 3135, 1082, 3020, 0, 3340]</td>\n",
       "      <td>Malphite</td>\n",
       "      <td>[3047, 2033, 3082, 3075, 3067, 3068, 3340]</td>\n",
       "    </tr>\n",
       "  </tbody>\n",
       "</table>\n",
       "</div>"
      ],
      "text/plain": [
       "   Unnamed: 0  team1.win team1.composition.champion1  \\\n",
       "0           0      False                  Blitzcrank   \n",
       "1           1       True                   Seraphine   \n",
       "2           2      False                        Lulu   \n",
       "3           3      False                     Morgana   \n",
       "4           4      False                        Rell   \n",
       "\n",
       "            team1.composition.champion1_items team1.composition.champion2  \\\n",
       "0     [3190, 2055, 3860, 3076, 3047, 0, 3364]                       Kaisa   \n",
       "1  [3158, 6617, 3853, 3114, 1052, 2055, 3364]                        Jhin   \n",
       "2  [2055, 3158, 3860, 3011, 3114, 2065, 3364]                    Tristana   \n",
       "3  [3158, 2065, 3157, 3853, 2055, 3011, 3364]                     Caitlyn   \n",
       "4     [8001, 3860, 0, 3047, 3105, 3067, 3364]                    Aphelios   \n",
       "\n",
       "            team1.composition.champion2_items team1.composition.champion3  \\\n",
       "0  [3006, 2031, 6671, 6676, 3123, 3086, 3363]                        Ryze   \n",
       "1     [6676, 3086, 2015, 3009, 6671, 0, 3363]                  Cassiopeia   \n",
       "2  [3046, 3026, 1018, 3006, 6672, 3091, 3363]                 TwistedFate   \n",
       "3  [3035, 6671, 1018, 3006, 3031, 3095, 3363]                       Sylas   \n",
       "4  [3031, 6673, 3006, 6676, 1036, 2055, 3363]                       Sylas   \n",
       "\n",
       "            team1.composition.champion3_items team1.composition.champion4  \\\n",
       "0  [3040, 2420, 6656, 3020, 1029, 2055, 3363]                     Sejuani   \n",
       "1     [3157, 6653, 4630, 0, 1082, 3070, 3340]                      LeeSin   \n",
       "2     [3157, 3094, 6656, 3041, 3158, 0, 3363]                     Sejuani   \n",
       "3  [3158, 3157, 6656, 4629, 1056, 1058, 3364]                     Evelynn   \n",
       "4  [6656, 2033, 3157, 1058, 3158, 3082, 3363]                     XinZhao   \n",
       "\n",
       "            team1.composition.champion4_items team1.composition.champion5  \\\n",
       "0  [6662, 2031, 2055, 3047, 1029, 8001, 3364]                   Gangplank   \n",
       "1  [2031, 6630, 2055, 3047, 3071, 3133, 3340]                       Nasus   \n",
       "2  [3109, 3067, 2055, 3047, 3001, 6662, 3364]                      Darius   \n",
       "3  [3152, 1058, 3041, 3089, 3135, 3020, 3363]                      Rengar   \n",
       "4     [6630, 3143, 3044, 3047, 0, 6333, 3364]                      Graves   \n",
       "\n",
       "            team1.composition.champion5_items  team2.win  \\\n",
       "0  [2033, 3078, 3047, 3123, 6695, 1028, 3340]       True   \n",
       "1  [1054, 3193, 3047, 6632, 1029, 1029, 3340]      False   \n",
       "2  [3193, 3082, 1057, 3047, 3053, 3078, 3363]       True   \n",
       "3  [3047, 3071, 6630, 1054, 3077, 1011, 3364]       True   \n",
       "4  [3508, 6673, 3031, 3111, 1055, 1018, 3363]       True   \n",
       "\n",
       "  team2.composition.champion6           team2.composition.champion6_items  \\\n",
       "0                        Sona  [3158, 6617, 1052, 3853, 2055, 1004, 3364]   \n",
       "1                       Rakan  [3860, 2055, 2065, 3158, 3916, 4642, 3364]   \n",
       "2                       Swain     [3853, 3157, 4637, 6653, 3020, 0, 3364]   \n",
       "3                    Nautilus     [3860, 2031, 3190, 3047, 3076, 0, 3364]   \n",
       "4                     Trundle  [8001, 3857, 2403, 1033, 3047, 3067, 3364]   \n",
       "\n",
       "  team2.composition.champion7           team2.composition.champion7_items  \\\n",
       "0                      Draven                    [0, 0, 0, 0, 0, 0, 3363]   \n",
       "1                     Caitlyn  [1055, 6691, 6676, 3006, 3086, 1042, 3363]   \n",
       "2                      Syndra     [3020, 1058, 3135, 0, 6655, 4628, 3363]   \n",
       "3                    Tristana  [1038, 6672, 2055, 1037, 3006, 3046, 3363]   \n",
       "4                        Jhin  [6671, 3031, 1018, 3009, 6676, 1055, 3363]   \n",
       "\n",
       "  team2.composition.champion8           team2.composition.champion8_items  \\\n",
       "0                       Kayle        [3115, 3111, 0, 1055, 1028, 0, 3340]   \n",
       "1                         Zed  [6692, 6694, 6695, 3158, 3814, 1036, 3364]   \n",
       "2                      Akshan  [6672, 3091, 1037, 3111, 1053, 1043, 3363]   \n",
       "3                       Jayce  [3042, 3158, 1036, 6692, 6609, 3134, 3363]   \n",
       "4                      Lucian  [6671, 6694, 2055, 3133, 3006, 3123, 3363]   \n",
       "\n",
       "  team2.composition.champion9        team2.composition.champion9_items  \\\n",
       "0                      RekSai  [3111, 2031, 3814, 1028, 0, 6693, 3364]   \n",
       "1                     Sejuani     [3047, 3001, 3082, 0, 6662, 0, 3364]   \n",
       "2                      LeeSin  [3026, 2422, 3814, 6694, 6692, 0, 3340]   \n",
       "3                       Viego  [3111, 3091, 6632, 3211, 3067, 0, 3364]   \n",
       "4                     Evelynn  [3152, 3089, 3135, 1082, 3020, 0, 3340]   \n",
       "\n",
       "  team2.composition.champion10          team2.composition.champion10_items  \n",
       "0                         Yone  [2031, 3006, 3086, 1054, 6673, 1018, 3340]  \n",
       "1                       Darius     [3078, 2033, 3071, 3047, 3123, 0, 3363]  \n",
       "2                      DrMundo  [3143, 3076, 3047, 3065, 3068, 1028, 3364]  \n",
       "3                       Kennen     [3089, 0, 3152, 3020, 3135, 3191, 3363]  \n",
       "4                     Malphite  [3047, 2033, 3082, 3075, 3067, 3068, 3340]  "
      ]
     },
     "execution_count": 628,
     "metadata": {},
     "output_type": "execute_result"
    }
   ],
   "source": [
    "df.head()"
   ]
  },
  {
   "cell_type": "markdown",
   "metadata": {},
   "source": [
    "### Temp Composition Sample"
   ]
  },
  {
   "cell_type": "code",
   "execution_count": 629,
   "metadata": {},
   "outputs": [],
   "source": [
    "champion = 'Irelia'\n",
    "ally_team = ['Nami','Lucian', 'Syndra', 'Nidalee', 'Irelia']\n",
    "enemy_team = ['Leona', 'Jhin', 'Orianna', 'JarvanIV', 'Camille']"
   ]
  },
  {
   "cell_type": "markdown",
   "metadata": {},
   "source": [
    "### Filter Winning Matches"
   ]
  },
  {
   "cell_type": "code",
   "execution_count": 630,
   "metadata": {},
   "outputs": [],
   "source": [
    "team1_columns = df.columns[1:12]\n",
    "team2_columns = df.columns[12:]\n",
    "teams_columns = team1_columns[1:].append(team2_columns[1:])"
   ]
  },
  {
   "cell_type": "markdown",
   "metadata": {},
   "source": [
    "#### Filter By Champion Presence in Team 1 then by Team 1 Winning Status"
   ]
  },
  {
   "cell_type": "code",
   "execution_count": 631,
   "metadata": {},
   "outputs": [],
   "source": [
    "team1_df = (df[team1_columns] == champion) \n",
    "winning_team1_df = df.iloc[team1_df.loc[team1_df.sum(axis=1) == 1].index.tolist()]\n",
    "winning_team1_df = winning_team1_df[winning_team1_df['team1.win'] == True]\n",
    "filtered_teams_list = winning_team1_df.index.tolist()\n"
   ]
  },
  {
   "cell_type": "markdown",
   "metadata": {},
   "source": [
    "#### Filter By Champion Presence in Team 2 then by Team 2 Winning Status"
   ]
  },
  {
   "cell_type": "code",
   "execution_count": 632,
   "metadata": {},
   "outputs": [],
   "source": [
    "team2_df = (df[team2_columns] == champion) \n",
    "winning_team2_df = df.iloc[team2_df.loc[team2_df.sum(axis=1) == 1].index.tolist()]\n",
    "winning_team2_df = winning_team2_df[winning_team2_df['team2.win'] == True]\n",
    "filtered_teams_list += winning_team2_df.index.tolist()"
   ]
  },
  {
   "cell_type": "markdown",
   "metadata": {},
   "source": [
    "#### Filter Main DataFrame by acquired indexes that match the criteria"
   ]
  },
  {
   "cell_type": "code",
   "execution_count": 633,
   "metadata": {},
   "outputs": [
    {
     "name": "stderr",
     "output_type": "stream",
     "text": [
      "/tmp/ipykernel_18044/2862047535.py:3: FutureWarning: In a future version of pandas all arguments of DataFrame.drop except for the argument 'labels' will be keyword-only\n",
      "  df = df.drop('Unnamed: 0', 1)\n"
     ]
    }
   ],
   "source": [
    "filtered_teams_list = list(set(filtered_teams_list))\n",
    "df = df.iloc[filtered_teams_list]\n",
    "df = df.drop('Unnamed: 0', 1)"
   ]
  },
  {
   "cell_type": "markdown",
   "metadata": {},
   "source": [
    "### Most commonly bought (winning) items"
   ]
  },
  {
   "cell_type": "markdown",
   "metadata": {},
   "source": [
    "#### Collect Items bought by champion in winning cases"
   ]
  },
  {
   "cell_type": "code",
   "execution_count": 634,
   "metadata": {},
   "outputs": [],
   "source": [
    "most_common_list = []\n",
    "\n",
    "for col in df[teams_columns]:\n",
    "    for i, row_value in df[col].iteritems():\n",
    "        if df[col][i] == champion:\n",
    "            most_common_list.append(eval(df[col+'_items'][i]))"
   ]
  },
  {
   "cell_type": "markdown",
   "metadata": {},
   "source": [
    "#### Create a dataframe from items and get the most common items from it\n"
   ]
  },
  {
   "cell_type": "code",
   "execution_count": 635,
   "metadata": {},
   "outputs": [
    {
     "data": {
      "text/plain": [
       "{'Most common Item 1': 1055,\n",
       " 'Most common Item 2': 3153,\n",
       " 'Most common Item 3': 3153,\n",
       " 'Most common Item 4': 3047,\n",
       " 'Most common Item 5': 3047,\n",
       " 'Most common Item 6': 1036,\n",
       " 'Most common Vision Item': 3340}"
      ]
     },
     "execution_count": 635,
     "metadata": {},
     "output_type": "execute_result"
    }
   ],
   "source": [
    "most_common_df = pd.DataFrame(most_common_list, columns =['Item 1', 'Item 2', 'Item 3', 'Item 4', 'Item 5', 'Item 6', 'Vision Item'], dtype= int) \n",
    "most_common_bought = dict()\n",
    "for col in most_common_df.columns:\n",
    "    if most_common_df[col].mode()[0] == 0:\n",
    "        most_common_bought[f'Most common {col}'] = most_common_df[col].value_counts().index[1]\n",
    "    else:\n",
    "        most_common_bought[f'Most common {col}'] = most_common_df[col].mode()[0]    \n",
    "most_common_bought"
   ]
  },
  {
   "cell_type": "markdown",
   "metadata": {},
   "source": [
    "### Filter Relevant Compositions"
   ]
  },
  {
   "cell_type": "markdown",
   "metadata": {},
   "source": [
    "#### Set Tolerance Threshold"
   ]
  },
  {
   "cell_type": "code",
   "execution_count": 636,
   "metadata": {},
   "outputs": [],
   "source": [
    "ally_tolerance = 0.4\n",
    "enemy_tolerance = 0.2"
   ]
  },
  {
   "cell_type": "markdown",
   "metadata": {},
   "source": [
    "#### Extract compositions into separate lists"
   ]
  },
  {
   "cell_type": "code",
   "execution_count": 637,
   "metadata": {},
   "outputs": [],
   "source": [
    "ally_list = []\n",
    "enemy_list = []\n",
    "\n",
    "for col in range(len(teams_columns)):\n",
    "    if col < len(teams_columns)//2:\n",
    "        ally_list.append(winning_team1_df[winning_team1_df[teams_columns].columns[col]].tolist())\n",
    "    else:\n",
    "        enemy_list.append(winning_team1_df[winning_team1_df[teams_columns].columns[col]].tolist())\n",
    "\n",
    "for col in range(len(teams_columns)):\n",
    "    if col < len(teams_columns)//2:\n",
    "        enemy_list.append(winning_team2_df[winning_team2_df[teams_columns].columns[col]].tolist())\n",
    "    else:\n",
    "        ally_list.append(winning_team2_df[winning_team2_df[teams_columns].columns[col]].tolist())"
   ]
  },
  {
   "cell_type": "markdown",
   "metadata": {},
   "source": [
    "#### Contain each match teams in a list"
   ]
  },
  {
   "cell_type": "code",
   "execution_count": 638,
   "metadata": {},
   "outputs": [],
   "source": [
    "ally_comp = []\n",
    "enemy_comp = []\n",
    "\n",
    "for value in range(len(enemy_list[0])):\n",
    "    ally_comp.append([])\n",
    "    enemy_comp.append([])\n",
    "\n",
    "    for row in range(len(ally_list)//2):\n",
    "        ally_comp[value].append(ally_list[row][value])\n",
    "        enemy_comp[value].append(enemy_list[row][value])"
   ]
  },
  {
   "cell_type": "markdown",
   "metadata": {},
   "source": [
    "#### Compare present compositions similarity with input composition "
   ]
  },
  {
   "cell_type": "code",
   "execution_count": 644,
   "metadata": {},
   "outputs": [
    {
     "data": {
      "text/plain": [
       "[['Leona',\n",
       "  '[0, 3859, 2031, 3067, 3117, 1029, 3364]',\n",
       "  'Irelia',\n",
       "  '[3153, 1083, 0, 1055, 1001, 0, 3340]',\n",
       "  'Lucian',\n",
       "  '[1055, 3133, 6671, 3057, 3006, 0, 3340]',\n",
       "  'Nidalee',\n",
       "  '[3158, 2031, 4636, 1082, 0, 0, 3364]',\n",
       "  'Karma',\n",
       "  '[6653, 3158, 2055, 0, 2033, 0, 3340]',\n",
       "  'Thresh',\n",
       "  '[3190, 3117, 3857, 0, 1028, 0, 3364]',\n",
       "  'Twitch',\n",
       "  '[3006, 6676, 0, 6672, 0, 0, 3340]',\n",
       "  'Annie',\n",
       "  '[1056, 6655, 1082, 2031, 3020, 1058, 3363]',\n",
       "  'LeeSin',\n",
       "  '[2055, 3814, 6692, 3158, 0, 1036, 3340]',\n",
       "  'Camille',\n",
       "  '[1054, 3078, 3077, 2055, 1036, 3111, 3364]']]"
      ]
     },
     "execution_count": 644,
     "metadata": {},
     "output_type": "execute_result"
    }
   ],
   "source": [
    "relevant_comopsitions = []\n",
    "\n",
    "for comp in range(len(ally_comp)):\n",
    "    ally_similarity = difflib.SequenceMatcher(None, ally_team, ally_comp[comp][::2]).ratio()\n",
    "    enemy_similarity = difflib.SequenceMatcher(None, enemy_team, enemy_comp[comp][::2]).ratio()\n",
    "    # print(ally_similarity, enemy_similarity)\n",
    "    if ally_similarity < ally_tolerance or enemy_similarity < enemy_tolerance:\n",
    "        continue\n",
    "    \n",
    "    relevant_comopsitions.append([])\n",
    "    relevant_comopsitions[-1] = ally_comp[comp] + enemy_comp[comp]"
   ]
  }
 ],
 "metadata": {
  "interpreter": {
   "hash": "f9f85f796d01129d0dd105a088854619f454435301f6ffec2fea96ecbd9be4ac"
  },
  "kernelspec": {
   "display_name": "Python 3.9.7 64-bit",
   "language": "python",
   "name": "python3"
  },
  "language_info": {
   "codemirror_mode": {
    "name": "ipython",
    "version": 3
   },
   "file_extension": ".py",
   "mimetype": "text/x-python",
   "name": "python",
   "nbconvert_exporter": "python",
   "pygments_lexer": "ipython3",
   "version": "3.9.5"
  },
  "orig_nbformat": 4
 },
 "nbformat": 4,
 "nbformat_minor": 2
}
